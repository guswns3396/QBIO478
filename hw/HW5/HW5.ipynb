{
 "cells": [
  {
   "cell_type": "markdown",
   "id": "07f799ae",
   "metadata": {},
   "source": [
    "# Hyun-Joon Yang\n",
    "# BISC 478\n",
    "# yanghyun@usc.edu\n",
    "# HW 5"
   ]
  },
  {
   "cell_type": "markdown",
   "id": "ac5548ef",
   "metadata": {},
   "source": [
    "<hr>"
   ]
  },
  {
   "cell_type": "code",
   "execution_count": 1,
   "id": "870bf77b",
   "metadata": {},
   "outputs": [],
   "source": [
    "library('IRdisplay')"
   ]
  },
  {
   "cell_type": "markdown",
   "id": "3a8decdf",
   "metadata": {},
   "source": [
    "<hr>"
   ]
  },
  {
   "cell_type": "markdown",
   "id": "6e16e1f1",
   "metadata": {},
   "source": [
    "# Q1\n",
    "<br>\n",
    "\n",
    "<strong>\n",
    "    For this problem we are going to explore the GWAS Catalog. <br>\n",
    "    Go to: https://www.ebi.ac.uk/gwas/ <br>\n",
    "    In the search window type, “type i diabetes mellitus”. Click on the first result (it might take a minute to update).\n",
    "</strong>"
   ]
  },
  {
   "cell_type": "markdown",
   "id": "a96ad2e0",
   "metadata": {},
   "source": [
    "## a. (1 pt) How many associations?"
   ]
  },
  {
   "cell_type": "markdown",
   "id": "5d4e9ebb",
   "metadata": {},
   "source": [
    "351"
   ]
  },
  {
   "cell_type": "markdown",
   "id": "3055163a",
   "metadata": {},
   "source": [
    "## b. (1 pt) How many studies?"
   ]
  },
  {
   "cell_type": "markdown",
   "id": "a891ba8e",
   "metadata": {},
   "source": [
    "56"
   ]
  },
  {
   "cell_type": "markdown",
   "id": "d164d9b6",
   "metadata": {},
   "source": [
    "#### In Associations, click on the up arrow next to “P-value”."
   ]
  },
  {
   "cell_type": "markdown",
   "id": "9f314e51",
   "metadata": {},
   "source": [
    "## c. (1 pt) What is the p-value of the variant with the smallest p-value?"
   ]
  },
  {
   "cell_type": "markdown",
   "id": "e701af15",
   "metadata": {},
   "source": [
    "variant: rs1770-G\n",
    "\n",
    "p-value: $2 \\times 10^{-232}$"
   ]
  },
  {
   "cell_type": "markdown",
   "id": "cd8eb5b1",
   "metadata": {},
   "source": [
    "## d. (1 pt) What is the risk allele frequency (RAF) of this variant?"
   ]
  },
  {
   "cell_type": "markdown",
   "id": "ed625c9c",
   "metadata": {},
   "source": [
    "0.46"
   ]
  },
  {
   "cell_type": "markdown",
   "id": "3db81c57",
   "metadata": {},
   "source": [
    "## e. (1 pt) What is the odds ratio (OR) of this variant?"
   ]
  },
  {
   "cell_type": "markdown",
   "id": "84c00c7b",
   "metadata": {},
   "source": [
    "4.28"
   ]
  },
  {
   "cell_type": "markdown",
   "id": "ab5c9f21",
   "metadata": {},
   "source": [
    "## f. (1 pt) Which chromosome is this variant on?"
   ]
  },
  {
   "cell_type": "markdown",
   "id": "7066e18c",
   "metadata": {},
   "source": [
    "chromosome 6"
   ]
  },
  {
   "cell_type": "markdown",
   "id": "c69ef9aa",
   "metadata": {},
   "source": [
    "#### Click on the “study accession” value for this variant."
   ]
  },
  {
   "cell_type": "markdown",
   "id": "49119220",
   "metadata": {},
   "source": [
    "## g. (1 pt) How many cases and controls and what population was used for the GWAS study that identified this variant?"
   ]
  },
  {
   "cell_type": "markdown",
   "id": "3beed389",
   "metadata": {},
   "source": [
    "cases: 1,005 <br>\n",
    "controls: 1,257 <br>\n",
    "population: Han Chinese ancestry"
   ]
  },
  {
   "cell_type": "markdown",
   "id": "cee749d2",
   "metadata": {},
   "source": [
    "#### Click on the web browser back arrow. Back in Associations, click on the down arrow next to odds ratio."
   ]
  },
  {
   "cell_type": "markdown",
   "id": "a6dcc3e5",
   "metadata": {},
   "source": [
    "## h. (1 pt) What is the p-value of the variant with the largest odds ratio?"
   ]
  },
  {
   "cell_type": "markdown",
   "id": "bad3b1b5",
   "metadata": {},
   "source": [
    "variant: rs191449639-A <br>\n",
    "p-value: $1 \\times 10^{-8}$"
   ]
  },
  {
   "cell_type": "markdown",
   "id": "8f2e1f4e",
   "metadata": {},
   "source": [
    "## i. (1 pt) What is the risk allele frequency (RAF) of this variant?"
   ]
  },
  {
   "cell_type": "markdown",
   "id": "20b1a81d",
   "metadata": {},
   "source": [
    "0.005"
   ]
  },
  {
   "cell_type": "markdown",
   "id": "dd552687",
   "metadata": {},
   "source": [
    "## j. (1 pt) What is the odds ratio (OR) of this variant?"
   ]
  },
  {
   "cell_type": "markdown",
   "id": "425cd39e",
   "metadata": {},
   "source": [
    "32.42"
   ]
  },
  {
   "cell_type": "markdown",
   "id": "247d47ab",
   "metadata": {},
   "source": [
    "## k. (1 pt) Which chromosome is this variant on?"
   ]
  },
  {
   "cell_type": "markdown",
   "id": "ee20c50b",
   "metadata": {},
   "source": [
    "chromosome 4"
   ]
  },
  {
   "cell_type": "markdown",
   "id": "50a4f9ae",
   "metadata": {},
   "source": [
    "#### Click on the “study accession” value for this variant."
   ]
  },
  {
   "cell_type": "markdown",
   "id": "b1dbf5ca",
   "metadata": {},
   "source": [
    "## l. (1 pt) How many cases and controls and what population was used for the GWAS study that identified this variant?"
   ]
  },
  {
   "cell_type": "markdown",
   "id": "df6ba6dc",
   "metadata": {},
   "source": [
    "cases: 4,948 <br>\n",
    "control: 12,076 <br>\n",
    "population: European ancestry"
   ]
  },
  {
   "cell_type": "markdown",
   "id": "263adbf0",
   "metadata": {},
   "source": [
    "## m. (3 pts) Are you surprised that the variant with the smallest p-value is not the variant with the largest odds ratio? Discuss."
   ]
  },
  {
   "cell_type": "markdown",
   "id": "e341316b",
   "metadata": {},
   "source": [
    "No, due to factors like linkage disequilibrium, smallest p-value does not mean the variant is causal or has largest odds ratio. Fine mapping is needed to further investigate the variants."
   ]
  },
  {
   "cell_type": "markdown",
   "id": "68c2a010",
   "metadata": {},
   "source": [
    "<hr>"
   ]
  },
  {
   "cell_type": "markdown",
   "id": "1546ad40",
   "metadata": {},
   "source": [
    "# Q2\n",
    "<br>\n",
    "\n",
    "<strong>\n",
    "    For the next two problems we are going to use the R code in GWAS lecture 4\n",
    "(lecture notes on Blackboard, you can just copy and past the commands and then\n",
    "change the numbers for the matrix 𝑚 and the inflation factor 𝜆). If you do not\n",
    "have R already installed on your computer, use the website mentioned in lecture:\n",
    "https://rdrr.io/snippets/\n",
    "</strong>\n",
    "<br>\n",
    "<br>\n",
    "<strong>\n",
    "    For each of the two tables below compute the p-value for the chi-squared test, the\n",
    "p-value for the Cochran-Armitage trend test (with genomic control inflation factor\n",
    "𝜆 = 1, so no adjustment), the odds ratio, and the 95% confidence interval for the\n",
    "odds ratio.\n",
    "</strong>"
   ]
  },
  {
   "cell_type": "code",
   "execution_count": 2,
   "id": "23aaa669",
   "metadata": {},
   "outputs": [],
   "source": [
    "trend.test <- function(m, lambda) {\n",
    "    # verify dimension\n",
    "    stopifnot(identical(dim(m), as.integer(c(2,3))))\n",
    "    # calculate Y2\n",
    "    N = sum(m); R = sum(m[1,])\n",
    "    r1 = m[1,2]; r2 = m[1,3]\n",
    "    n1 = sum(m[,2]); n2 = sum(m[,3])\n",
    "    num = N*(N*r1+N*2*r2-R*n1-R*2*n2)^2\n",
    "    den = (N-R)*R*(N*n1+N*4*n2-(n1+2*n2)^2)\n",
    "    Y2 = (num/den)\n",
    "    # calculate p-value\n",
    "    pval <- 1-pchisq(Y2/lambda,df=1)\n",
    "    return(c(Y2, pval))\n",
    "}"
   ]
  },
  {
   "cell_type": "code",
   "execution_count": 3,
   "id": "70da5e00",
   "metadata": {},
   "outputs": [],
   "source": [
    "odds.ratio <- function(m) {\n",
    "    # verify dimension\n",
    "    stopifnot(identical(dim(m), as.integer(c(2,3))))\n",
    "    # calculate odds ratio\n",
    "    mall = matrix(nrow=2,ncol=2)\n",
    "    mall[1,] = c(2*m[1,1]+m[1,2],m[1,2]+2*m[1,3])\n",
    "    mall[2,] = c(2*m[2,1]+m[2,2],m[2,2]+2*m[2,3])\n",
    "    oddsratio = (mall[1,2]/mall[2,2])/(mall[1,1]/mall[2,1])\n",
    "    # calculate confidence interval\n",
    "    s = sqrt(1/mall[1,1]+1/mall[1,2]+1/mall[2,1]+1/mall[2,2])\n",
    "    conf = oddsratio*c(exp(-2*s),exp(2*s)) # 95% conf int\n",
    "    return(c(oddsratio, conf))\n",
    "}"
   ]
  },
  {
   "cell_type": "code",
   "execution_count": 4,
   "id": "a2bcc0af",
   "metadata": {},
   "outputs": [],
   "source": [
    "rownames <- c('Cases', 'Controls')"
   ]
  },
  {
   "cell_type": "code",
   "execution_count": 5,
   "id": "325513ea",
   "metadata": {},
   "outputs": [],
   "source": [
    "# data <- c(150, 375, 250, 500, 940, 460)\n",
    "# m <- m <- matrix(data=data, nrow=2, ncol=3, byrow=T)\n",
    "# print(chisq.test(x=m, correct=F))\n",
    "# print(trend.test(m=m, lambda=1.1))\n",
    "# print(odds.ratio(m=m))"
   ]
  },
  {
   "cell_type": "markdown",
   "id": "1fe2ba5f",
   "metadata": {},
   "source": [
    "## a. (5 pts)"
   ]
  },
  {
   "cell_type": "code",
   "execution_count": 6,
   "id": "5ffc3799",
   "metadata": {},
   "outputs": [
    {
     "data": {
      "text/html": [
       "<table>\n",
       "<thead><tr><th></th><th scope=col>AA</th><th scope=col>AC</th><th scope=col>CC</th></tr></thead>\n",
       "<tbody>\n",
       "\t<tr><th scope=row>Cases</th><td>400</td><td>500</td><td>100</td></tr>\n",
       "\t<tr><th scope=row>Controls</th><td>540</td><td>400</td><td> 60</td></tr>\n",
       "</tbody>\n",
       "</table>\n"
      ],
      "text/latex": [
       "\\begin{tabular}{r|lll}\n",
       "  & AA & AC & CC\\\\\n",
       "\\hline\n",
       "\tCases & 400 & 500 & 100\\\\\n",
       "\tControls & 540 & 400 &  60\\\\\n",
       "\\end{tabular}\n"
      ],
      "text/markdown": [
       "\n",
       "| <!--/--> | AA | AC | CC |\n",
       "|---|---|---|---|\n",
       "| Cases | 400 | 500 | 100 |\n",
       "| Controls | 540 | 400 |  60 |\n",
       "\n"
      ],
      "text/plain": [
       "         AA  AC  CC \n",
       "Cases    400 500 100\n",
       "Controls 540 400  60"
      ]
     },
     "metadata": {},
     "output_type": "display_data"
    }
   ],
   "source": [
    "colnames <- c('AA', 'AC', 'CC')\n",
    "dimnames <- list(rownames, colnames)\n",
    "data <- c(400, 500, 100, 540, 400, 60)\n",
    "m <- matrix(data=data, nrow=2, ncol=3, dimnames=dimnames, byrow=T)\n",
    "m"
   ]
  },
  {
   "cell_type": "markdown",
   "id": "d62cca71",
   "metadata": {},
   "source": [
    "#### Chi-Squared Test"
   ]
  },
  {
   "cell_type": "code",
   "execution_count": 7,
   "id": "c1e88a2b",
   "metadata": {},
   "outputs": [
    {
     "data": {
      "text/plain": [
       "\n",
       "\tPearson's Chi-squared test\n",
       "\n",
       "data:  m\n",
       "X-squared = 41.962, df = 2, p-value = 7.727e-10\n"
      ]
     },
     "metadata": {},
     "output_type": "display_data"
    }
   ],
   "source": [
    "chisq.test(m, correct=F)"
   ]
  },
  {
   "cell_type": "markdown",
   "id": "9629bd91",
   "metadata": {},
   "source": [
    "$ p = 7.727 \\times 10^{-10}$"
   ]
  },
  {
   "cell_type": "markdown",
   "id": "904236a1",
   "metadata": {},
   "source": [
    "#### Cochran-Armitage Trend Test"
   ]
  },
  {
   "cell_type": "code",
   "execution_count": 8,
   "id": "52437328",
   "metadata": {},
   "outputs": [
    {
     "data": {
      "text/html": [
       "<ol class=list-inline>\n",
       "\t<li>40.7137471726564</li>\n",
       "\t<li>1.76242909155633e-10</li>\n",
       "</ol>\n"
      ],
      "text/latex": [
       "\\begin{enumerate*}\n",
       "\\item 40.7137471726564\n",
       "\\item 1.76242909155633e-10\n",
       "\\end{enumerate*}\n"
      ],
      "text/markdown": [
       "1. 40.7137471726564\n",
       "2. 1.76242909155633e-10\n",
       "\n",
       "\n"
      ],
      "text/plain": [
       "[1] 4.071375e+01 1.762429e-10"
      ]
     },
     "metadata": {},
     "output_type": "display_data"
    }
   ],
   "source": [
    "trend.test(m, 1)"
   ]
  },
  {
   "cell_type": "markdown",
   "id": "b148a549",
   "metadata": {},
   "source": [
    "$ p = 1.762 \\times 10^{-10} $"
   ]
  },
  {
   "cell_type": "markdown",
   "id": "45c642fc",
   "metadata": {},
   "source": [
    "#### Odds Ratio & Confidence Interval"
   ]
  },
  {
   "cell_type": "code",
   "execution_count": 9,
   "id": "2a595d1d",
   "metadata": {},
   "outputs": [
    {
     "data": {
      "text/html": [
       "<ol class=list-inline>\n",
       "\t<li>1.53254437869822</li>\n",
       "\t<li>1.33431095272559</li>\n",
       "\t<li>1.76022857931419</li>\n",
       "</ol>\n"
      ],
      "text/latex": [
       "\\begin{enumerate*}\n",
       "\\item 1.53254437869822\n",
       "\\item 1.33431095272559\n",
       "\\item 1.76022857931419\n",
       "\\end{enumerate*}\n"
      ],
      "text/markdown": [
       "1. 1.53254437869822\n",
       "2. 1.33431095272559\n",
       "3. 1.76022857931419\n",
       "\n",
       "\n"
      ],
      "text/plain": [
       "[1] 1.532544 1.334311 1.760229"
      ]
     },
     "metadata": {},
     "output_type": "display_data"
    }
   ],
   "source": [
    "odds.ratio(m)"
   ]
  },
  {
   "cell_type": "markdown",
   "id": "89b46a3e",
   "metadata": {},
   "source": [
    "Odds ratio = $1.533$"
   ]
  },
  {
   "cell_type": "markdown",
   "id": "494a6723",
   "metadata": {},
   "source": [
    "Confidence Interval = $[1.334, 1.760]$"
   ]
  },
  {
   "cell_type": "markdown",
   "id": "dc670104",
   "metadata": {},
   "source": [
    "## b. (5 pts)"
   ]
  },
  {
   "cell_type": "code",
   "execution_count": 10,
   "id": "a960ac03",
   "metadata": {},
   "outputs": [
    {
     "data": {
      "text/html": [
       "<table>\n",
       "<thead><tr><th></th><th scope=col>TT</th><th scope=col>TG</th><th scope=col>GG</th></tr></thead>\n",
       "<tbody>\n",
       "\t<tr><th scope=row>Cases</th><td> 95</td><td>800</td><td>105</td></tr>\n",
       "\t<tr><th scope=row>Controls</th><td>260</td><td>490</td><td>250</td></tr>\n",
       "</tbody>\n",
       "</table>\n"
      ],
      "text/latex": [
       "\\begin{tabular}{r|lll}\n",
       "  & TT & TG & GG\\\\\n",
       "\\hline\n",
       "\tCases &  95 & 800 & 105\\\\\n",
       "\tControls & 260 & 490 & 250\\\\\n",
       "\\end{tabular}\n"
      ],
      "text/markdown": [
       "\n",
       "| <!--/--> | TT | TG | GG |\n",
       "|---|---|---|---|\n",
       "| Cases |  95 | 800 | 105 |\n",
       "| Controls | 260 | 490 | 250 |\n",
       "\n"
      ],
      "text/plain": [
       "         TT  TG  GG \n",
       "Cases     95 800 105\n",
       "Controls 260 490 250"
      ]
     },
     "metadata": {},
     "output_type": "display_data"
    }
   ],
   "source": [
    "colnames <- c('TT', 'TG', 'GG')\n",
    "dimnames <- list(rownames, colnames)\n",
    "data <- c(95, 800, 105, 260, 490, 250)\n",
    "m <- matrix(data=data, nrow=2, ncol=3, dimnames=dimnames, byrow=T)\n",
    "m"
   ]
  },
  {
   "cell_type": "markdown",
   "id": "4758f70e",
   "metadata": {},
   "source": [
    "#### Chi-Squared Test"
   ]
  },
  {
   "cell_type": "code",
   "execution_count": 11,
   "id": "5bb2242a",
   "metadata": {},
   "outputs": [
    {
     "data": {
      "text/plain": [
       "\n",
       "\tPearson's Chi-squared test\n",
       "\n",
       "data:  m\n",
       "X-squared = 210.41, df = 2, p-value < 2.2e-16\n"
      ]
     },
     "metadata": {},
     "output_type": "display_data"
    }
   ],
   "source": [
    "chisq.test(m, correct=F)"
   ]
  },
  {
   "cell_type": "markdown",
   "id": "84628d04",
   "metadata": {},
   "source": [
    "$ p < 2.2 \\times 10^{-16}$"
   ]
  },
  {
   "cell_type": "markdown",
   "id": "3150470a",
   "metadata": {},
   "source": [
    "#### Cochran-Armitage Trend Test"
   ]
  },
  {
   "cell_type": "code",
   "execution_count": 12,
   "id": "b809bafb",
   "metadata": {},
   "outputs": [
    {
     "data": {
      "text/html": [
       "<ol class=list-inline>\n",
       "\t<li>0.563380281690141</li>\n",
       "\t<li>0.452901472968326</li>\n",
       "</ol>\n"
      ],
      "text/latex": [
       "\\begin{enumerate*}\n",
       "\\item 0.563380281690141\n",
       "\\item 0.452901472968326\n",
       "\\end{enumerate*}\n"
      ],
      "text/markdown": [
       "1. 0.563380281690141\n",
       "2. 0.452901472968326\n",
       "\n",
       "\n"
      ],
      "text/plain": [
       "[1] 0.5633803 0.4529015"
      ]
     },
     "metadata": {},
     "output_type": "display_data"
    }
   ],
   "source": [
    "trend.test(m, 1)"
   ]
  },
  {
   "cell_type": "markdown",
   "id": "dbd3d9a4",
   "metadata": {},
   "source": [
    "$ p = 0.453 $"
   ]
  },
  {
   "cell_type": "markdown",
   "id": "6f096944",
   "metadata": {},
   "source": [
    "#### Odds Ratio & Confidence Interval"
   ]
  },
  {
   "cell_type": "code",
   "execution_count": 13,
   "id": "7bac0df3",
   "metadata": {},
   "outputs": [
    {
     "data": {
      "text/html": [
       "<ol class=list-inline>\n",
       "\t<li>1.04081216202428</li>\n",
       "\t<li>0.917139127433415</li>\n",
       "\t<li>1.18116207695687</li>\n",
       "</ol>\n"
      ],
      "text/latex": [
       "\\begin{enumerate*}\n",
       "\\item 1.04081216202428\n",
       "\\item 0.917139127433415\n",
       "\\item 1.18116207695687\n",
       "\\end{enumerate*}\n"
      ],
      "text/markdown": [
       "1. 1.04081216202428\n",
       "2. 0.917139127433415\n",
       "3. 1.18116207695687\n",
       "\n",
       "\n"
      ],
      "text/plain": [
       "[1] 1.0408122 0.9171391 1.1811621"
      ]
     },
     "metadata": {},
     "output_type": "display_data"
    }
   ],
   "source": [
    "odds.ratio(m)"
   ]
  },
  {
   "cell_type": "markdown",
   "id": "51ae573a",
   "metadata": {},
   "source": [
    "Odds ratio = $1.041$"
   ]
  },
  {
   "cell_type": "markdown",
   "id": "d2873724",
   "metadata": {},
   "source": [
    "Confidence Interval = $[0.917, 1.181]$"
   ]
  },
  {
   "cell_type": "markdown",
   "id": "950e5b13",
   "metadata": {},
   "source": [
    "## c. (5 pts) Why do the two p-values roughly agree for (a) but radically disagree for (b)? Discuss."
   ]
  },
  {
   "cell_type": "markdown",
   "id": "c3edc6e0",
   "metadata": {},
   "source": [
    "One possible reason for the observed difference could be that in (a), the genetic model is additive whereas in (b), it is not, as Cochran-Armitage trend test sacrifices ability to detect non-additive trends for higher power."
   ]
  },
  {
   "cell_type": "markdown",
   "id": "eac000b8",
   "metadata": {},
   "source": [
    "<hr>"
   ]
  },
  {
   "cell_type": "markdown",
   "id": "964967e3",
   "metadata": {},
   "source": [
    "# Q3\n",
    "<br>\n",
    "\n",
    "<strong>\n",
    "    For the data in (2a), compute the p-value for the Cochran-Armitage trend test for\n",
    "the following genomic control inflation factors:\n",
    "</strong>"
   ]
  },
  {
   "cell_type": "code",
   "execution_count": 14,
   "id": "828c9191",
   "metadata": {},
   "outputs": [
    {
     "data": {
      "text/html": [
       "<table>\n",
       "<thead><tr><th></th><th scope=col>AA</th><th scope=col>AC</th><th scope=col>CC</th></tr></thead>\n",
       "<tbody>\n",
       "\t<tr><th scope=row>Cases</th><td>400</td><td>500</td><td>100</td></tr>\n",
       "\t<tr><th scope=row>Controls</th><td>540</td><td>400</td><td> 60</td></tr>\n",
       "</tbody>\n",
       "</table>\n"
      ],
      "text/latex": [
       "\\begin{tabular}{r|lll}\n",
       "  & AA & AC & CC\\\\\n",
       "\\hline\n",
       "\tCases & 400 & 500 & 100\\\\\n",
       "\tControls & 540 & 400 &  60\\\\\n",
       "\\end{tabular}\n"
      ],
      "text/markdown": [
       "\n",
       "| <!--/--> | AA | AC | CC |\n",
       "|---|---|---|---|\n",
       "| Cases | 400 | 500 | 100 |\n",
       "| Controls | 540 | 400 |  60 |\n",
       "\n"
      ],
      "text/plain": [
       "         AA  AC  CC \n",
       "Cases    400 500 100\n",
       "Controls 540 400  60"
      ]
     },
     "metadata": {},
     "output_type": "display_data"
    }
   ],
   "source": [
    "colnames <- c('AA', 'AC', 'CC')\n",
    "dimnames <- list(rownames, colnames)\n",
    "data <- c(400, 500, 100, 540, 400, 60)\n",
    "m <- matrix(data=data, nrow=2, ncol=3, dimnames=dimnames, byrow=T)\n",
    "m"
   ]
  },
  {
   "cell_type": "code",
   "execution_count": 15,
   "id": "ed0efd8c",
   "metadata": {},
   "outputs": [
    {
     "name": "stdout",
     "output_type": "stream",
     "text": [
      "[1] \"lambda: 1     p-value: 1.76242909155633e-10\"\n",
      "[1] \"lambda: 1.05     p-value: 4.75580685943555e-10\"\n",
      "[1] \"lambda: 1.1     p-value: 1.1737452121352e-09\"\n",
      "[1] \"lambda: 1.15     p-value: 2.68038102824164e-09\"\n"
     ]
    }
   ],
   "source": [
    "lambdas = c(1, 1.05, 1.10, 1.15)\n",
    "for (lambda in lambdas) {\n",
    "    pval = trend.test(m, lambda)[2]\n",
    "    print(paste('lambda:', lambda, '   ', 'p-value:', pval))\n",
    "}"
   ]
  },
  {
   "cell_type": "markdown",
   "id": "ce424085",
   "metadata": {},
   "source": [
    "## a. 1 pt 𝜆 = 1 (no adjustment)"
   ]
  },
  {
   "cell_type": "markdown",
   "id": "d6d1395d",
   "metadata": {},
   "source": [
    "$p=1.762 \\times 10^{-10}$"
   ]
  },
  {
   "cell_type": "markdown",
   "id": "71dbd5d1",
   "metadata": {},
   "source": [
    "## b. 1 pt 𝜆 = 1.05"
   ]
  },
  {
   "cell_type": "markdown",
   "id": "299227cd",
   "metadata": {},
   "source": [
    "$ p = 4.756 \\times 10^{-10}$"
   ]
  },
  {
   "cell_type": "markdown",
   "id": "514b883c",
   "metadata": {},
   "source": [
    "## c. 1 pt 𝜆 = 1.10"
   ]
  },
  {
   "cell_type": "markdown",
   "id": "240998ef",
   "metadata": {},
   "source": [
    "$ p = 1.174 \\times 10^{-9}$"
   ]
  },
  {
   "cell_type": "markdown",
   "id": "7f1913a8",
   "metadata": {},
   "source": [
    "## d. 1 pt 𝜆 = 1.15"
   ]
  },
  {
   "cell_type": "markdown",
   "id": "dd6363f4",
   "metadata": {},
   "source": [
    "$ p = 2.680 \\times 10^{-9}$"
   ]
  },
  {
   "cell_type": "markdown",
   "id": "c7613b10",
   "metadata": {},
   "source": [
    "## e. 1 pt As 𝜆 increases, do p-values increase or decrease?"
   ]
  },
  {
   "cell_type": "markdown",
   "id": "88c95816",
   "metadata": {},
   "source": [
    "As $\\lambda$ increases, p-values increase"
   ]
  },
  {
   "cell_type": "markdown",
   "id": "cd8eae23",
   "metadata": {},
   "source": [
    "<hr>"
   ]
  },
  {
   "cell_type": "markdown",
   "id": "56b8407c",
   "metadata": {},
   "source": [
    "# Q4\n",
    "<br>\n",
    "\n",
    "<strong>\n",
    "    (5 pts) In your own words, explain one possible reason for the missing\n",
    "heritability in many GWAS studies.\n",
    "</strong>"
   ]
  },
  {
   "cell_type": "markdown",
   "id": "2692db44",
   "metadata": {},
   "source": [
    "One possible reason for missing heritability in GWAS studies is genetic variations other than SNPs. Indels, sequence repeats, and large scale genomic rearrangements are genetic variations not accounted for by SNP chips. Although whole genome sequencing has potential to account for these other genetic variations, it requires high quality and high coverage."
   ]
  },
  {
   "cell_type": "markdown",
   "id": "8569e873",
   "metadata": {},
   "source": [
    "<hr>"
   ]
  },
  {
   "cell_type": "markdown",
   "id": "4a322d22",
   "metadata": {},
   "source": [
    "# Q5\n",
    "<br>\n",
    "\n",
    "<strong>\n",
    "    A researcher is interested in studying differential expression (DE) genes in three\n",
    "tissues (Tissue1, Tissue2, and Tissue3) and generated four different RNA-seq\n",
    "datasets (Dataset 1-4). Before carrying out the differential expression analysis,\n",
    "PCA analysis was performed using normalized counts. The plot based on the first\n",
    "two PCs is shown below.\n",
    "</strong>"
   ]
  },
  {
   "cell_type": "code",
   "execution_count": 16,
   "id": "ffaf7b44",
   "metadata": {},
   "outputs": [
    {
     "data": {
      "image/png": "[encoded data removed]"
     },
     "metadata": {},
     "output_type": "display_data"
    }
   ],
   "source": [
    "display_png(file='img5-1.jpg')"
   ]
  },
  {
   "cell_type": "markdown",
   "id": "552c8149",
   "metadata": {},
   "source": [
    "#### Answer the following questions based on the PCA plot"
   ]
  },
  {
   "cell_type": "markdown",
   "id": "adc1bfbf",
   "metadata": {},
   "source": [
    "## a. (1 pt) Which component (PC1/PC2) has better separation of Dataset4 from Dataset2?"
   ]
  },
  {
   "cell_type": "markdown",
   "id": "dcd05626",
   "metadata": {},
   "source": [
    "PC2"
   ]
  },
  {
   "cell_type": "markdown",
   "id": "3aa21573",
   "metadata": {},
   "source": [
    "## b. (2 pts) The differences between different tissues are more pronounced than the differences between different types of datasets (True/False). Explain."
   ]
  },
  {
   "cell_type": "markdown",
   "id": "034ce65c",
   "metadata": {},
   "source": [
    "False. The data is clustered by dataset and within a cluster you can see that there are different types of tissues present."
   ]
  },
  {
   "cell_type": "markdown",
   "id": "ac1e4d48",
   "metadata": {},
   "source": [
    "## c. (2 pts) If the researcher carries out DE analysis between tissue types using the normalized counts used for generating the PCA plots as it is (without any additional correction), meaningful results cannot be obtained (True/False). Explain."
   ]
  },
  {
   "cell_type": "markdown",
   "id": "5fd179da",
   "metadata": {},
   "source": [
    "True. Because there is more variation between the datasets than tissue types, it would be difficult to determine whether the differential expression is due to tissue type (what we want to study) or due to dataset."
   ]
  },
  {
   "cell_type": "markdown",
   "id": "cb26af70",
   "metadata": {},
   "source": [
    "<hr>"
   ]
  },
  {
   "cell_type": "markdown",
   "id": "2d378565",
   "metadata": {},
   "source": [
    "# Q6\n",
    "<br>\n",
    "\n",
    "<strong>\n",
    "    Go to the UCSC genome browser (http://genome.ucsc.edu) and select the Human\n",
    "hg38 genome assembly. In the search box, type the gene name “HBB” and select\n",
    "“HBB” gene. Use the GENCODE gene track to answer the following questions:\n",
    "</strong>"
   ]
  },
  {
   "cell_type": "markdown",
   "id": "584d4c77",
   "metadata": {},
   "source": [
    "## a. (1 pt) Enable dbSNP 153 track under Variation. Using dbSNP153 track, find how many SNPs are reported in the gene body of this gene?"
   ]
  },
  {
   "cell_type": "markdown",
   "id": "fdfd084e",
   "metadata": {},
   "source": [
    "7"
   ]
  },
  {
   "cell_type": "markdown",
   "id": "047ae28f",
   "metadata": {},
   "source": [
    "## b. (1 pt) How many SNPs are in exon 1? What are the ids of SNPs present in exon 1?"
   ]
  },
  {
   "cell_type": "markdown",
   "id": "3a523852",
   "metadata": {},
   "source": [
    "* 2 SNPs\n",
    "* rs334, rs713040"
   ]
  },
  {
   "cell_type": "markdown",
   "id": "fa60a54b",
   "metadata": {},
   "source": [
    "#### Enable the ”OMIM Alleles” track under ”Phenotypes and Literature”. OMIM can be used to find information about disease phenotypes associated with this gene. Make sure to refresh after enabling the track. Change OMIM Alleles to pack. Click on OMIM Allelic Variant 141900.0401. It will take you to another page."
   ]
  },
  {
   "cell_type": "markdown",
   "id": "7d89a1cf",
   "metadata": {},
   "source": [
    "## c. (1 pt) What is the amino acid substitution for this variant?"
   ]
  },
  {
   "cell_type": "markdown",
   "id": "8879d159",
   "metadata": {},
   "source": [
    "VAL54ASP (substitution of aspartic acid for valine at position 54 of the beta chain)"
   ]
  },
  {
   "cell_type": "markdown",
   "id": "47c7fc59",
   "metadata": {},
   "source": [
    "## d. (1 pt) Is this a synonymous SNP or non-synonymous SNP?"
   ]
  },
  {
   "cell_type": "markdown",
   "id": "50dc6522",
   "metadata": {},
   "source": [
    "non-synonymous SNP"
   ]
  },
  {
   "cell_type": "markdown",
   "id": "902fdb64",
   "metadata": {},
   "source": [
    "## e. (1 pt) What two medical conditions are reported in the literature for the patient with this variant? Find the information in the 141900.0401 link."
   ]
  },
  {
   "cell_type": "markdown",
   "id": "7f0b1de0",
   "metadata": {},
   "source": [
    "splenomegaly and anemia"
   ]
  }
 ],
 "metadata": {
  "kernelspec": {
   "display_name": "R",
   "language": "R",
   "name": "ir"
  },
  "language_info": {
   "codemirror_mode": "r",
   "file_extension": ".r",
   "mimetype": "text/x-r-source",
   "name": "R",
   "pygments_lexer": "r",
   "version": "3.6.1"
  }
 },
 "nbformat": 4,
 "nbformat_minor": 5
}
