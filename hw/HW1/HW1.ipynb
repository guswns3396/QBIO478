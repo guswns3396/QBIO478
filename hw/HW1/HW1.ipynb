{
 "cells": [
  {
   "cell_type": "markdown",
   "metadata": {},
   "source": [
    "# Hyun-Joon Yang\n",
    "# yanghyun@usc.edu\n",
    "# BISC 478\n",
    "# HW1\n",
    "<hr>"
   ]
  },
  {
   "cell_type": "markdown",
   "metadata": {},
   "source": [
    "## Q1\n",
    "###  Compare the sequencing accuracy, average read length, and sequence throughput of Illumina Sequencing, Oxford Nanopore, and PacBio."
   ]
  },
  {
   "cell_type": "markdown",
   "metadata": {},
   "source": [
    "* Illumina sequencing allows short reads that are around ~200-300 bp through synthesis. The reads tend to be highly accurate with ~0.1% error rate. High throughput is achieved using bridge amplification.\n",
    "* Oxford Nanopore allows long reads that are around ~8 kb. The reads have accuracy at around ~85-90%. High throughput is achieved by having nanopores in parallel which have motor proteins that feed the fragment during which electrical signal is used to identify the sequence.\n",
    "* PacBio allows long reads that are around ~10-16 kb. The reads have accuracy at around 15%, similar to Nanopore, but higher than Illumina. High throughput is achieved using SMRT cells that have wells in each of which is a single molecule of DNA that get sequenced through synthesis."
   ]
  },
  {
   "cell_type": "markdown",
   "metadata": {},
   "source": [
    "## Q2\n",
    "\n",
    "Given a random DNA sequence of length N. Assuming equal nucleotide probability\n",
    "\n",
    "### A) [5 points] What is the expected number of occurrences of a k-mer in this sequence? A k-mer is a nucleotide sequence of a certain length k."
   ]
  },
  {
   "cell_type": "markdown",
   "metadata": {},
   "source": [
    "binomial distribution formula\n",
    "$$ P(X=x) = {n \\choose x}p^x(1-p)^{n-x} $$\n",
    "in this case, $p = (\\frac{1}{4})^k$, $n = N-k+1$\n",
    "\n",
    "expectation formula\n",
    "$$ E[X] = \\sum_{x=1}^{n}{xP(X=x)} $$\n",
    "therefore\n",
    "$$ E[X] = \\sum_{x=1}^{N-k+1}{x}{N-k+1 \\choose x}(\\frac{1}{4})^{kx}(1-(\\frac{1}{4})^k)^{N-k+1-x} $$"
   ]
  },
  {
   "cell_type": "markdown",
   "metadata": {},
   "source": [
    "### B) [5 points] What is the probability of observing m occurrences of k-mer in this sequence?"
   ]
  },
  {
   "cell_type": "markdown",
   "metadata": {},
   "source": [
    "$$ P(X=m) = {N-k+1 \\choose m}(\\frac{1}{4})^{km}(1-(\\frac{1}{4})^k)^{N-k+1-m} $$"
   ]
  },
  {
   "cell_type": "markdown",
   "metadata": {},
   "source": [
    "## Q3\n",
    "\n",
    "<strong>Finding gene information using UCSC Genome browser</strong>\n",
    "\n",
    "Shown below are some of the top studied human genes:\n",
    "* TP53: tumor protein p53\n",
    "* IL6: interleukin 6\n",
    "* ESR1: estrogen receptor 1\n",
    "* EGFR: epidermal growth factor receptor\n",
    "* BRCA1: breast cancer 1\n",
    "* ApoE: apolipoprotein E\n",
    "* TNF: tumor necrosis factor\n",
    "* VEGFA: vascular endothelial growth factor\n",
    "* AKT1: protein kinase B\n",
    "* MTHFR: methylenetetrahydrofolate reductase\n",
    "\n",
    "### A)  [5 points] Select two genes from this list and read about them. Comment why these genes are important?"
   ]
  },
  {
   "cell_type": "markdown",
   "metadata": {},
   "source": [
    "* TP53\n",
    "    * TP53 is a gene that encodes for the protein p53 which is crucial in suppressing tumors and thus in cancer prevention.\n",
    "* AKT1\n",
    "    * AKT1 is a gene that encodes for ATK1 kinase (aka protein kinase B) which is important for signaling pathways such as regulating cell proliferation, differentiation, and cell survival."
   ]
  },
  {
   "cell_type": "markdown",
   "metadata": {},
   "source": [
    "Now pick one gene out of the two. Go to UCSC Genome Browser and select the Human hg38 genome assembly in the Genomes tab. In the search box, type the gene name you picked and select the gene. Use the GENCODE v32 gene track to answer the following questions:"
   ]
  },
  {
   "cell_type": "markdown",
   "metadata": {},
   "source": [
    "### B)  [2 points] On what chromosome is this gene?"
   ]
  },
  {
   "cell_type": "markdown",
   "metadata": {},
   "source": [
    "chromosome 17"
   ]
  },
  {
   "cell_type": "markdown",
   "metadata": {},
   "source": [
    "### C) [2 points] This gene is present on which strand (forward/reverse)?"
   ]
  },
  {
   "cell_type": "markdown",
   "metadata": {},
   "source": [
    "reverse strand"
   ]
  },
  {
   "cell_type": "markdown",
   "metadata": {},
   "source": [
    "### D)  [1 point] How long is the gene in base pairs?"
   ]
  },
  {
   "cell_type": "markdown",
   "metadata": {},
   "source": [
    "19,137 bp"
   ]
  },
  {
   "cell_type": "markdown",
   "metadata": {},
   "source": [
    "## Q4\n",
    "\n",
    "<strong>In-silico PCR</strong><br>\n",
    "Polymerase chain reaction is a method used to make many copies of a specific DNA region. In a PCR reaction, the region of DNA that will be copied, or amplified, is determined by the ”primer” sequence. PCR primers are short pieces of single-stranded DNA, usually around 20 base pairs in length. Two primers are used in each PCR reaction, and they are designed so that they are complementary to the sense and anti-sense strands of the target DNA.\n",
    "\n",
    "In-silico PCR is a way to computationally predict what sequences will be amplified without having to perform PCR and sequence the results. We will use the In-Silico PCR tool from the UCSC genome browser. Navigate to:\n",
    "\n",
    "UCSC Genome Browser → Tools → In-Silico PCR\n",
    "\n",
    "Make sure you are viewing the human genome version GRCh38/hg38 (hover over “Genomes”,\n",
    "and select Human GRCh38/hg38 if this is not the case).\n",
    "\n",
    "\n",
    "For the forward (left) primer (5’→ 3’), enter: <br>\n",
    "AGATATTATTTCAGAAGAGAT\n",
    "\n",
    "For the reverse (right) primer (5’→ 3’), enter: <br>\n",
    "TGGCTTGGAACGTACATTTAC\n",
    "\n",
    "\n",
    "Then click submit. Go through the results carefully and pay attention to the regions where the primers bind (upper case indicates matching regions). On the result page, the blue text is a link. Click on it, and\n",
    "\n",
    "### A) [5 points] Describe any salient features of the region that was amplified (e.g. genes). Note, you can click on any gene and it will show you annotations of known functions of the gene, disease associations."
   ]
  },
  {
   "cell_type": "markdown",
   "metadata": {},
   "source": [
    "The region contains TAS2R38 gene which is located on the reverse strand of chromosome 7 and is 1,143 bp long. This gene encodes a seven-transmembrane G protein-coupled receptor that controls the ability to taste glucosinolates."
   ]
  },
  {
   "cell_type": "markdown",
   "metadata": {},
   "source": [
    "### B) [10 points] We can use the UCSC browser to retrieve the DNA sequence for a region. In the search box/position bar you enter an interval:\n",
    "\n",
    "### chr22:23,253,797-23,253,980\n",
    "### Click on click on View, then DNA → get DNA. This will provide you the DNA sequence for this region.\n",
    "### Now design 20-base pair primer sequences (forward and reverse) that would amplify the interval:\n",
    "### chr22:23,253,797-23,253,980\n",
    "### You can verify your results using In-Silico PCR."
   ]
  },
  {
   "cell_type": "markdown",
   "metadata": {},
   "source": [
    "Forward: AGATGGCTCGTTCGGAACAC\n",
    "\n",
    "Reverse: CGCTTTAGTGGACTCCAGGG"
   ]
  },
  {
   "cell_type": "markdown",
   "metadata": {},
   "source": [
    "## Q5\n",
    "### A)  [5 points] A base has a PHRED quality score of 20. What is the probability that this base was incorrectly sequenced?"
   ]
  },
  {
   "cell_type": "markdown",
   "metadata": {},
   "source": [
    "score formula\n",
    "$$ Q = -10\\log_{10}(p) $$\n",
    "Q = 20\n",
    "$$ 20 = -10\\log_{10}(p) $$\n",
    "$$ p = 10^{-20/10} $$\n",
    "$$ p = 1/100 = 0.01 $$"
   ]
  },
  {
   "cell_type": "markdown",
   "metadata": {},
   "source": [
    "### B) [10 points] An Illumina FASTQ file has an entry:\n",
    "### @ERR894729.1874/1\n",
    "### AGTCTGTAAAATGACTCTGA\n",
    "### +\n",
    "### ????BBBBB($$?????$??\n",
    "### Using the quality score encoding listed in this [URL](https://support.illumina.com/help/BaseSpace_OLH_009008/Content/Source/Informatics/BS/QualityScoreEncoding_swBS.htm), calculate the expected number of sequencing errors in this read."
   ]
  },
  {
   "cell_type": "markdown",
   "metadata": {},
   "source": [
    "expected error\n",
    "$$ E = \\sum_{i=1}^{N}{p_i} $$"
   ]
  },
  {
   "cell_type": "code",
   "execution_count": 1,
   "metadata": {},
   "outputs": [
    {
     "name": "stdout",
     "output_type": "stream",
     "text": [
      "? 30 0.001 0.001\n",
      "? 30 0.001 0.002\n",
      "? 30 0.001 0.003\n",
      "? 30 0.001 0.004\n",
      "B 33 0.0005011872336272725 0.004501187233627272\n",
      "B 33 0.0005011872336272725 0.0050023744672545445\n",
      "B 33 0.0005011872336272725 0.005503561700881817\n",
      "B 33 0.0005011872336272725 0.006004748934509089\n",
      "B 33 0.0005011872336272725 0.006505936168136361\n",
      "( 7 0.19952623149688797 0.20603216766502433\n",
      "$ 3 0.5011872336272722 0.7072194012922965\n",
      "$ 3 0.5011872336272722 1.2084066349195688\n",
      "? 30 0.001 1.2094066349195687\n",
      "? 30 0.001 1.2104066349195686\n",
      "? 30 0.001 1.2114066349195685\n",
      "? 30 0.001 1.2124066349195683\n",
      "? 30 0.001 1.2134066349195682\n",
      "$ 3 0.5011872336272722 1.7145938685468405\n",
      "? 30 0.001 1.7155938685468404\n",
      "? 30 0.001 1.7165938685468403\n",
      "1.7165938685468403\n"
     ]
    }
   ],
   "source": [
    "seq = \"AGTCTGTAAAATGACTCTGA\"\n",
    "qs = \"????BBBBB($$?????$??\"\n",
    "\n",
    "E = 0\n",
    "if len(seq) == len(qs):\n",
    "    for i in qs:\n",
    "        Q = ord(i) - ord('!')\n",
    "        p = 10**(-Q/10)\n",
    "        E += p\n",
    "        print(i, Q, p, E)\n",
    "    print(E)\n",
    "else:\n",
    "    print('lengths of sequence and quality score do not match')"
   ]
  },
  {
   "cell_type": "markdown",
   "metadata": {},
   "source": [
    "$$ E = 1.7166 $$"
   ]
  }
 ],
 "metadata": {
  "kernelspec": {
   "display_name": "Python 3",
   "language": "python",
   "name": "python3"
  },
  "language_info": {
   "codemirror_mode": {
    "name": "ipython",
    "version": 3
   },
   "file_extension": ".py",
   "mimetype": "text/x-python",
   "name": "python",
   "nbconvert_exporter": "python",
   "pygments_lexer": "ipython3",
   "version": "3.8.5"
  }
 },
 "nbformat": 4,
 "nbformat_minor": 4
}
